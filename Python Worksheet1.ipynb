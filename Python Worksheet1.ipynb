{
 "cells": [
  {
   "cell_type": "markdown",
   "metadata": {},
   "source": [
    "### PYTHON- WORKSHEET 1 (ANSWERS)"
   ]
  },
  {
   "cell_type": "code",
   "execution_count": null,
   "metadata": {},
   "outputs": [],
   "source": [
    "1.option (C)\n",
    "2.option(B)\n",
    "3.option(C)\n",
    "4.option(A)\n",
    "5.option(D)\n",
    "6.option(C)\n",
    "7.option(A)\n",
    "8.option(C)\n",
    "9.option(A) and option (C)\n",
    "10.option(A) and option (B)"
   ]
  },
  {
   "cell_type": "code",
   "execution_count": 6,
   "metadata": {},
   "outputs": [
    {
     "name": "stdout",
     "output_type": "stream",
     "text": [
      "Enter any number:5\n",
      "Factorial = 120\n"
     ]
    }
   ],
   "source": [
    "#Program to find the factorial of a number.\n",
    "i=int(input(\"Enter any number:\"))\n",
    "fact=1\n",
    "while (i>0):\n",
    "    fact=fact*i\n",
    "    i=i-1\n",
    "print(\"Factorial =\",fact)\n",
    "    \n"
   ]
  },
  {
   "cell_type": "code",
   "execution_count": 13,
   "metadata": {},
   "outputs": [
    {
     "name": "stdout",
     "output_type": "stream",
     "text": [
      "Prime\n"
     ]
    }
   ],
   "source": [
    "#Program to find whether a number is prime or composit\n",
    "\n",
    "\n",
    "num=13\n",
    "\n",
    "for i in range(2,num):\n",
    "    if num % i==0:\n",
    "        print(\"Not Prime\")\n",
    "        break\n",
    "else:\n",
    "    print(\"Prime\")"
   ]
  },
  {
   "cell_type": "code",
   "execution_count": 19,
   "metadata": {},
   "outputs": [
    {
     "name": "stdout",
     "output_type": "stream",
     "text": [
      "Yes\n"
     ]
    }
   ],
   "source": [
    "#Program to find whether a given string is palindrome or not\n",
    "\n",
    "def isPalindrome (string):\n",
    "        return string ==string[::-1]\n",
    "string= \"madam\"\n",
    "ans = isPalindrome (string)\n",
    "if ans:\n",
    "        print(\"Yes\")\n",
    "else:\n",
    "    print(\"No\")"
   ]
  },
  {
   "cell_type": "code",
   "execution_count": 20,
   "metadata": {},
   "outputs": [
    {
     "name": "stdout",
     "output_type": "stream",
     "text": [
      "Enter  the value of first side:3\n",
      "Enter the value of second side:4\n",
      "Hypotenuse= 5.0\n"
     ]
    }
   ],
   "source": [
    "#Program to get the third side of right-angled triangle from two given sides.\n",
    "import math\n",
    "a=float(input(\"Enter  the value of first side:\"))\n",
    "b=float(input(\"Enter the value of second side:\"))\n",
    "c=math.sqrt(a**2+b**2)\n",
    "\n",
    "print(\"Hypotenuse=\",c)"
   ]
  },
  {
   "cell_type": "code",
   "execution_count": 25,
   "metadata": {},
   "outputs": [
    {
     "name": "stdout",
     "output_type": "stream",
     "text": [
      "Enter the stringAustralia\n",
      "{'A': 1, 'u': 1, 's': 1, 't': 1, 'r': 1, 'a': 2, 'l': 1, 'i': 1}\n"
     ]
    }
   ],
   "source": [
    "#program to print the frequency of  each of the characters present in a given string.\n",
    "string = input(\"Enter the string\")\n",
    "d1=dict()\n",
    "for i in string:\n",
    "    if i in d1:\n",
    "        d1[i]=d1[i]+1\n",
    "    else:\n",
    "        d1[i] =1\n",
    "        \n",
    "print(d1)"
   ]
  },
  {
   "cell_type": "code",
   "execution_count": null,
   "metadata": {},
   "outputs": [],
   "source": []
  },
  {
   "cell_type": "code",
   "execution_count": null,
   "metadata": {},
   "outputs": [],
   "source": []
  }
 ],
 "metadata": {
  "kernelspec": {
   "display_name": "Python 3",
   "language": "python",
   "name": "python3"
  },
  "language_info": {
   "codemirror_mode": {
    "name": "ipython",
    "version": 3
   },
   "file_extension": ".py",
   "mimetype": "text/x-python",
   "name": "python",
   "nbconvert_exporter": "python",
   "pygments_lexer": "ipython3",
   "version": "3.8.5"
  }
 },
 "nbformat": 4,
 "nbformat_minor": 4
}
